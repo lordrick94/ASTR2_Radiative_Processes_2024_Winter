{
 "cells": [
  {
   "cell_type": "markdown",
   "metadata": {},
   "source": [
    "# 3 a)"
   ]
  },
  {
   "cell_type": "code",
   "execution_count": 1,
   "metadata": {},
   "outputs": [],
   "source": [
    "from scipy.integrate import quad\n",
    "import numpy as np\n",
    "from astropy import units as u\n",
    "from astropy import constants as const"
   ]
  },
  {
   "cell_type": "markdown",
   "metadata": {},
   "source": [
    "# Integrating planck equation from 0 to $\\infty$\n",
    "\n",
    "### $$\\displaystyle\\int_0^{\\infty}B_\\nu(T)d\\nu = \\frac{2h}{c^2}\\left(\\frac{kT}{h}\\right)^4\\int_0^{\\infty}\\frac{x^3}{e^x-1}$$\n",
    "\n",
    "### Analytical Solution yields\n",
    "\n",
    "### $$\\displaystyle\\int_0^{\\infty}B_\\nu(T)d\\nu = \\frac{2h}{c^2}\\left(\\frac{kT}{h}\\right)^4\\cdot\\frac{\\pi^4}{15}$$\n"
   ]
  },
  {
   "cell_type": "code",
   "execution_count": 2,
   "metadata": {},
   "outputs": [
    {
     "name": "stdout",
     "output_type": "stream",
     "text": [
      "h =  6.62607015e-27 erg s\n",
      "c =  29979245800.0 cm / s\n",
      "k =  1.380649e-16 erg / K\n",
      "T =  300.0 K\n"
     ]
    }
   ],
   "source": [
    "# Let's define some constants and convert to cgs units\n",
    "h = const.h.cgs\n",
    "c = const.c.cgs\n",
    "k = const.k_B.cgs\n",
    "\n",
    "# Assume T = 300 K\n",
    "T = 300 * u.K\n",
    "\n",
    "print(\"h = \", h)\n",
    "print(\"c = \", c)\n",
    "print(\"k = \", k)\n",
    "print(\"T = \", T)\n",
    "\n"
   ]
  },
  {
   "cell_type": "code",
   "execution_count": 3,
   "metadata": {},
   "outputs": [
    {
     "name": "stdout",
     "output_type": "stream",
     "text": [
      "Analytical solution =  146199.835115196 erg / (s cm2)\n"
     ]
    }
   ],
   "source": [
    "# Calculate the analytical solution\n",
    "analytic_soln = (2*h/c**2) * (k*T/h)**4 * (np.pi**4/15)\n",
    "\n",
    "# Analytical solution in cgs units\n",
    "print(\"Analytical solution = \", analytic_soln)"
   ]
  },
  {
   "cell_type": "code",
   "execution_count": 4,
   "metadata": {},
   "outputs": [],
   "source": [
    "# Define constant in front of integral\n",
    "iconst = (2*h/c**2) * (k*T/h)**4"
   ]
  },
  {
   "cell_type": "code",
   "execution_count": 5,
   "metadata": {},
   "outputs": [
    {
     "name": "stderr",
     "output_type": "stream",
     "text": [
      "/tmp/ipykernel_55377/2588663023.py:3: RuntimeWarning: invalid value encountered in divide\n",
      "  y = x**3/(np.exp(x)-1)\n"
     ]
    },
    {
     "data": {
      "image/png": "[encoded data removed]",
      "text/plain": [
       "<Figure size 640x480 with 1 Axes>"
      ]
     },
     "metadata": {},
     "output_type": "display_data"
    }
   ],
   "source": [
    "# Plot x^3/(exp(x)-1)\n",
    "x = np.linspace(0, 20, 1000)\n",
    "y = x**3/(np.exp(x)-1)\n",
    "\n",
    "from matplotlib import pyplot as plt\n",
    "plt.plot(x, y)\n",
    "plt.show()\n",
    "\n"
   ]
  },
  {
   "cell_type": "code",
   "execution_count": 6,
   "metadata": {},
   "outputs": [
    {
     "name": "stdout",
     "output_type": "stream",
     "text": [
      "Numerical solution =  146199.83511519607 erg / (s cm2)\n"
     ]
    },
    {
     "name": "stderr",
     "output_type": "stream",
     "text": [
      "/tmp/ipykernel_55377/1561282243.py:7: RuntimeWarning: overflow encountered in exp\n",
      "  return x**3/(np.exp(x) - 1)\n"
     ]
    }
   ],
   "source": [
    "\n",
    "#Calculate the numerical integral\n",
    "# Define the function to be integrated\n",
    "def func(x):\n",
    "    if x == 0 or x == np.inf:\n",
    "        return 0\n",
    "    else:\n",
    "        return x**3/(np.exp(x) - 1)\n",
    "\n",
    "\n",
    "# Integrate the function from 0 to infinity\n",
    "integral_result, error = quad(func, 0, np.inf)\n",
    "\n",
    "print(\"Numerical solution = \", iconst * integral_result)"
   ]
  },
  {
   "cell_type": "markdown",
   "metadata": {},
   "source": [
    "# 3 b)"
   ]
  },
  {
   "cell_type": "markdown",
   "metadata": {},
   "source": [
    "### Analysis \n",
    "\n",
    "Differentiating $B_{\\nu}(\\nu,T)$ with respect to $\\nu$ and equating to zero yeilds $x = 3(1 - e^x)$ where $x = \\frac{h\\nu}{kT}$\n",
    "\n",
    "\n",
    "Simmillary Differentiating $B_{\\lambda}(\\lambda,T)$ with respect to $\\lambda$ and equating to zero yeilds $y = 5(1 - e^y)$ where $y = \\frac{hc}{\\lambda kT}$\n",
    "\n",
    "Below we solve these numerically"
   ]
  },
  {
   "cell_type": "code",
   "execution_count": 23,
   "metadata": {},
   "outputs": [
    {
     "name": "stdout",
     "output_type": "stream",
     "text": [
      "x =  2.8214393721221787\n",
      "nu/T = 5.88e+10 1 / (K s)\n"
     ]
    }
   ],
   "source": [
    "# Solving the equation x = 3(1 - exp(-x)) nunmerically\n",
    "import scipy.optimize as opt\n",
    "from IPython.display import display, Math\n",
    "def func(x):\n",
    "    return 3 - 3*np.exp(-x) - x\n",
    "\n",
    "# Initial guess\n",
    "x0 = 3\n",
    "\n",
    "# Solve for y\n",
    "x = opt.root(func, x0,method='hybr')\n",
    "\n",
    "print('x = ',x.x[0])\n",
    "\n",
    "# Calculate \\nu/T to 3 significant figures\n",
    "\n",
    "nu_T = x.x[0] * k/h\n",
    "\n",
    "\n",
    "print(f'nu/T = {nu_T:.3g}')\n"
   ]
  },
  {
   "cell_type": "code",
   "execution_count": 19,
   "metadata": {},
   "outputs": [
    {
     "name": "stdout",
     "output_type": "stream",
     "text": [
      "y =  4.965114231744281\n"
     ]
    },
    {
     "data": {
      "text/latex": [
       "$\\displaystyle \\lambda T =  0.29 K cm$"
      ],
      "text/plain": [
       "<IPython.core.display.Math object>"
      ]
     },
     "metadata": {},
     "output_type": "display_data"
    }
   ],
   "source": [
    "# Solving the equation y = 5(1 - exp(-y)) nunmerically\n",
    "def func(y):\n",
    "    return 5 - 5*np.exp(-y) - y\n",
    "\n",
    "# Initial guess\n",
    "y0 = 5\n",
    "\n",
    "# Solve for y\n",
    "y = opt.root(func, y0,method='hybr')\n",
    "\n",
    "print('y = ',y.x[0])\n",
    "\n",
    "# Calculate \\lambda*T to 3 significant figures\n",
    "\n",
    "lambda_T = h*c/(k*y.x[0])\n",
    "\n",
    "\n",
    "display(Math(r'\\lambda T =  {:.3g}'.format(lambda_T)))\n"
   ]
  },
  {
   "cell_type": "markdown",
   "metadata": {},
   "source": [
    "# 3 c)"
   ]
  },
  {
   "cell_type": "markdown",
   "metadata": {},
   "source": [
    "### Analysis \n",
    "\n",
    "Differentiating $\\frac{\\delta B_{\\nu}(\\nu,T)}{\\delta T}$ with respect to $\\nu$ and equating to zero yeilds \n",
    "\n",
    "$2xe^x - (x+4)(e^x-1) = 0$ where $x = \\frac{h\\nu}{kT}$\n",
    "\n",
    "\n",
    "Below we solve it numerically"
   ]
  },
  {
   "cell_type": "code",
   "execution_count": 32,
   "metadata": {},
   "outputs": [
    {
     "name": "stdout",
     "output_type": "stream",
     "text": [
      "x =  3.8300160963090732\n",
      "nu/T = 7.98e+10 1 / (K s)\n",
      "x =  3.8300160963090915\n",
      "nu/T = 7.98e+10 1 / (K s)\n",
      "x =  3.830016096309425\n",
      "nu/T = 7.98e+10 1 / (K s)\n",
      "x =  3.8300160963092256\n",
      "nu/T = 7.98e+10 1 / (K s)\n"
     ]
    }
   ],
   "source": [
    "def func(x):\n",
    "    return 2*x*np.exp(x) - (x+4)*(np.exp(x)-1)\n",
    "\n",
    "x0_tests = np.array([4, 5,6,7])\n",
    "for x0 in x0_tests:\n",
    "    x = opt.root(func, x0,method='hybr')\n",
    "\n",
    "    print('x = ',x.x[0])\n",
    "\n",
    "    # Calculate \\nu/T to 3 significant figures\n",
    "\n",
    "    nu_T = x.x[0] * k/h\n",
    "\n",
    "\n",
    "    print(f'nu/T = {nu_T:.3g}')\n",
    "\n"
   ]
  }
 ],
 "metadata": {
  "kernelspec": {
   "display_name": "astr_257",
   "language": "python",
   "name": "python3"
  },
  "language_info": {
   "codemirror_mode": {
    "name": "ipython",
    "version": 3
   },
   "file_extension": ".py",
   "mimetype": "text/x-python",
   "name": "python",
   "nbconvert_exporter": "python",
   "pygments_lexer": "ipython3",
   "version": "3.11.5"
  }
 },
 "nbformat": 4,
 "nbformat_minor": 2
}
