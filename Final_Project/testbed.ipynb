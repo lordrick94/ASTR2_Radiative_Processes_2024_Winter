{
 "cells": [
  {
   "cell_type": "code",
   "execution_count": 1,
   "metadata": {},
   "outputs": [],
   "source": [
    "from utils import *\n",
    "\n",
    "import numpy as np"
   ]
  },
  {
   "cell_type": "code",
   "execution_count": 10,
   "metadata": {},
   "outputs": [
    {
     "name": "stdout",
     "output_type": "stream",
     "text": [
      "Random w': using seed 8683293165691383775\n",
      "Unexpected exception formatting exception. Falling back to standard exception\n"
     ]
    },
    {
     "name": "stderr",
     "output_type": "stream",
     "text": [
      "Traceback (most recent call last):\n",
      "  File \"/home/lordrick/anaconda3/envs/FRB_Projects/lib/python3.11/site-packages/IPython/core/interactiveshell.py\", line 3526, in run_code\n",
      "    exec(code_obj, self.user_global_ns, self.user_ns)\n",
      "  File \"/tmp/ipykernel_515650/1658460715.py\", line 1, in <module>\n",
      "    w_next = get_wp_from_random_variate(phot_num=0, scat_num=0, wc=-8)\n",
      "             ^^^^^^^^^^^^^^^^^^^^^^^^^^^^^^^^^^^^^^^^^^^^^^^^^^^^^^^^^\n",
      "  File \"/tank/kahinga/code_backup/ASTR2_Radiative_Processes_2024_Winter/Final_Project/utils.py\", line 201, in get_wp_from_random_variate\n",
      "IndexError: index 2001 is out of bounds for axis 0 with size 2001\n",
      "\n",
      "During handling of the above exception, another exception occurred:\n",
      "\n",
      "Traceback (most recent call last):\n",
      "  File \"/home/lordrick/anaconda3/envs/FRB_Projects/lib/python3.11/site-packages/IPython/core/interactiveshell.py\", line 2120, in showtraceback\n",
      "    stb = self.InteractiveTB.structured_traceback(\n",
      "          ^^^^^^^^^^^^^^^^^^^^^^^^^^^^^^^^^^^^^^^^\n",
      "  File \"/home/lordrick/anaconda3/envs/FRB_Projects/lib/python3.11/site-packages/IPython/core/ultratb.py\", line 1435, in structured_traceback\n",
      "    return FormattedTB.structured_traceback(\n",
      "           ^^^^^^^^^^^^^^^^^^^^^^^^^^^^^^^^^\n",
      "  File \"/home/lordrick/anaconda3/envs/FRB_Projects/lib/python3.11/site-packages/IPython/core/ultratb.py\", line 1326, in structured_traceback\n",
      "    return VerboseTB.structured_traceback(\n",
      "           ^^^^^^^^^^^^^^^^^^^^^^^^^^^^^^^\n",
      "  File \"/home/lordrick/anaconda3/envs/FRB_Projects/lib/python3.11/site-packages/IPython/core/ultratb.py\", line 1173, in structured_traceback\n",
      "    formatted_exception = self.format_exception_as_a_whole(etype, evalue, etb, number_of_lines_of_context,\n",
      "                          ^^^^^^^^^^^^^^^^^^^^^^^^^^^^^^^^^^^^^^^^^^^^^^^^^^^^^^^^^^^^^^^^^^^^^^^^^^^^^^^^\n",
      "  File \"/home/lordrick/anaconda3/envs/FRB_Projects/lib/python3.11/site-packages/IPython/core/ultratb.py\", line 1088, in format_exception_as_a_whole\n",
      "    frames.append(self.format_record(record))\n",
      "                  ^^^^^^^^^^^^^^^^^^^^^^^^^^\n",
      "  File \"/home/lordrick/anaconda3/envs/FRB_Projects/lib/python3.11/site-packages/IPython/core/ultratb.py\", line 970, in format_record\n",
      "    frame_info.lines, Colors, self.has_colors, lvals\n",
      "    ^^^^^^^^^^^^^^^^\n",
      "  File \"/home/lordrick/anaconda3/envs/FRB_Projects/lib/python3.11/site-packages/IPython/core/ultratb.py\", line 792, in lines\n",
      "    return self._sd.lines\n",
      "           ^^^^^^^^^^^^^^\n",
      "  File \"/home/lordrick/anaconda3/envs/FRB_Projects/lib/python3.11/site-packages/stack_data/utils.py\", line 145, in cached_property_wrapper\n",
      "    value = obj.__dict__[self.func.__name__] = self.func(obj)\n",
      "                                               ^^^^^^^^^^^^^^\n",
      "  File \"/home/lordrick/anaconda3/envs/FRB_Projects/lib/python3.11/site-packages/stack_data/core.py\", line 698, in lines\n",
      "    pieces = self.included_pieces\n",
      "             ^^^^^^^^^^^^^^^^^^^^\n",
      "  File \"/home/lordrick/anaconda3/envs/FRB_Projects/lib/python3.11/site-packages/stack_data/utils.py\", line 145, in cached_property_wrapper\n",
      "    value = obj.__dict__[self.func.__name__] = self.func(obj)\n",
      "                                               ^^^^^^^^^^^^^^\n",
      "  File \"/home/lordrick/anaconda3/envs/FRB_Projects/lib/python3.11/site-packages/stack_data/core.py\", line 649, in included_pieces\n",
      "    pos = scope_pieces.index(self.executing_piece)\n",
      "                             ^^^^^^^^^^^^^^^^^^^^\n",
      "  File \"/home/lordrick/anaconda3/envs/FRB_Projects/lib/python3.11/site-packages/stack_data/utils.py\", line 145, in cached_property_wrapper\n",
      "    value = obj.__dict__[self.func.__name__] = self.func(obj)\n",
      "                                               ^^^^^^^^^^^^^^\n",
      "  File \"/home/lordrick/anaconda3/envs/FRB_Projects/lib/python3.11/site-packages/stack_data/core.py\", line 628, in executing_piece\n",
      "    return only(\n",
      "           ^^^^^\n",
      "  File \"/home/lordrick/anaconda3/envs/FRB_Projects/lib/python3.11/site-packages/executing/executing.py\", line 164, in only\n",
      "    raise NotOneValueFound('Expected one value, found 0')\n",
      "executing.executing.NotOneValueFound: Expected one value, found 0\n"
     ]
    }
   ],
   "source": [
    "w_next = get_wp_from_random_variate(phot_num=1, scat_num=0, wc=-8)\n",
    "print(w_next)"
   ]
  },
  {
   "cell_type": "code",
   "execution_count": 2,
   "metadata": {},
   "outputs": [],
   "source": [
    "make_rw_table()"
   ]
  },
  {
   "cell_type": "code",
   "execution_count": 4,
   "metadata": {},
   "outputs": [
    {
     "data": {
      "text/plain": [
       "(2001, 2001)"
      ]
     },
     "execution_count": 4,
     "metadata": {},
     "output_type": "execute_result"
    }
   ],
   "source": [
    "Rwwp = np.loadtxt('int_table.txt')\n",
    "Rwwp.shape\n",
    "#get_pdf(Rwwp)"
   ]
  },
  {
   "cell_type": "code",
   "execution_count": 7,
   "metadata": {},
   "outputs": [
    {
     "name": "stdout",
     "output_type": "stream",
     "text": [
      "CDF of w' direction is saved as Rwwp_cdf.txt\n"
     ]
    }
   ],
   "source": [
    "RN = np.loadtxt('Rwwp_normalized.txt')\n",
    "RN.shape\n",
    "get_cdf(RN)"
   ]
  },
  {
   "cell_type": "code",
   "execution_count": 6,
   "metadata": {},
   "outputs": [
    {
     "data": {
      "text/plain": [
       "(1001, 1001)"
      ]
     },
     "execution_count": 6,
     "metadata": {},
     "output_type": "execute_result"
    }
   ],
   "source": [
    "RCDF = np.loadtxt('Rwwp_cdf.txt')\n",
    "RCDF.shape"
   ]
  },
  {
   "cell_type": "code",
   "execution_count": 1,
   "metadata": {},
   "outputs": [],
   "source": [
    "from utils import *\n",
    "\n",
    "import numpy as np\n",
    "\n",
    "\n",
    "w = np.array([3,5,7,9])\n",
    "j = np.random.randint(200,1000,20)\n",
    "\n",
    "# wp = []\n",
    "# tau_h = []\n",
    "# for s in j:\n",
    "#     for i in w:\n",
    "#         t = get_wp_from_random_variate(seed=s,wc=i)\n",
    "#         wp.append(t)\n",
    "#         tau = get_tau_h(t)\n",
    "#         tau_h.append(tau)\n",
    "\n",
    "\n",
    "import matplotlib.pyplot as plt"
   ]
  },
  {
   "cell_type": "code",
   "execution_count": 5,
   "metadata": {},
   "outputs": [
    {
     "name": "stdout",
     "output_type": "stream",
     "text": [
      "[0.002410275026242507, 0.0026158484655526247, 0.002848915738432006, 0.0031146128512399636, 0.003419335036696342, 0.0037711267295848045, 0.004180220275055831, 0.0046597920140573805, 0.005227042261706389, 0.0059047683301151396, 0.00672370623397584, 0.007726103425077646, 0.008971323851780174, 0.010544926801396553, 0.012573926237755568, 0.015253573621035424, 0.018896852407237305, 0.02403183382508996, 0.03160856489854551, 0.043484234233877685, 0.06371944043559165, 0.10336928342012719, 0.894219121970692, 104.30620464947417, 2085.3152569225626, 5000.0, 2085.3152569225626, 104.30620464947417, 0.894219121970692, 0.10336928342012719, 0.06371944043559165, 0.043484234233877685, 0.03160856489854551, 0.02403183382508996, 0.018896852407237305, 0.015253573621035424, 0.012573926237755568, 0.010544926801396553, 0.008971323851780174, 0.007726103425077646, 0.00672370623397584, 0.0059047683301151396, 0.005227042261706389, 0.0046597920140573805, 0.004180220275055831, 0.0037711267295848045, 0.003419335036696342, 0.0031146128512399636, 0.002848915738432006, 0.0026158484655526247, 0.002410275026242507]\n"
     ]
    },
    {
     "data": {
      "image/png": "[encoded data removed]",
      "text/plain": [
       "<Figure size 640x480 with 1 Axes>"
      ]
     },
     "metadata": {},
     "output_type": "display_data"
    }
   ],
   "source": [
    "wp = np.linspace(-25,25,51)\n",
    "\n",
    "\n",
    "t = []\n",
    "for i in wp:\n",
    "    tau_h = get_tau_h(i)\n",
    "    t.append(tau_h)\n",
    "print(t)\n",
    "plt.scatter(wp,t,s=3)\n",
    "plt.xlabel('wp')\n",
    "plt.ylabel('tau_h')\n",
    "\n",
    "plt.title('tau_h vs wp')\n",
    "\n",
    "plt.grid()\n",
    "plt.tight_layout()\n",
    "\n",
    "\n",
    "plt.savefig('tau_h_vs_wp.jpg',dpi=300)\n",
    "plt.show()"
   ]
  },
  {
   "cell_type": "code",
   "execution_count": 9,
   "metadata": {},
   "outputs": [
    {
     "data": {
      "image/png": "[encoded data removed]",
      "text/plain": [
       "<Figure size 640x480 with 1 Axes>"
      ]
     },
     "metadata": {},
     "output_type": "display_data"
    }
   ],
   "source": [
    "plt.hist(wp, bins=100, alpha=0.5, label='wp')\n",
    "plt.show()"
   ]
  },
  {
   "cell_type": "code",
   "execution_count": 10,
   "metadata": {},
   "outputs": [
    {
     "data": {
      "image/png": "[encoded data removed]",
      "text/plain": [
       "<Figure size 640x480 with 1 Axes>"
      ]
     },
     "metadata": {},
     "output_type": "display_data"
    }
   ],
   "source": [
    "plt.hist(tau_h, bins=100, alpha=0.5, label='tau_h')\n",
    "plt.show()"
   ]
  },
  {
   "cell_type": "code",
   "execution_count": 4,
   "metadata": {},
   "outputs": [
    {
     "data": {
      "text/plain": [
       "Text(0.5, 0, 'escape_w')"
      ]
     },
     "execution_count": 4,
     "metadata": {},
     "output_type": "execute_result"
    },
    {
     "data": {
      "image/png": "[encoded data removed]",
      "text/plain": [
       "<Figure size 640x480 with 1 Axes>"
      ]
     },
     "metadata": {},
     "output_type": "display_data"
    }
   ],
   "source": [
    "import pandas as pd\n",
    "import matplotlib.pyplot as plt\n",
    "res = pd.read_csv('tests/tentative.txt')\n",
    "res\n",
    "# Plot a pdf of res['escape_w']\n",
    "\n",
    "plt.hist(res['escape_w'], bins=10, alpha=0.5, label='escape_w',density=True)\n",
    "plt.xlabel('escape_w')\n",
    "\n"
   ]
  },
  {
   "cell_type": "code",
   "execution_count": 20,
   "metadata": {},
   "outputs": [
    {
     "name": "stdout",
     "output_type": "stream",
     "text": [
      "Random variate: using seed 28049475\n",
      "Random variate: using seed 19606050\n",
      "Random variate: using seed 22904625\n",
      "Random variate: using seed 23097750\n",
      "Random variate: using seed 12707625\n",
      "Random variate: using seed 14144475\n",
      "Random variate: using seed 27501000\n",
      "Random variate: using seed 24951750\n",
      "Random variate: using seed 24210150\n",
      "Random variate: using seed 11255325\n",
      "Random variate: using seed 14067225\n",
      "Random variate: using seed 21753600\n",
      "Random variate: using seed 27964500\n",
      "Random variate: using seed 23723475\n",
      "Random variate: using seed 12112800\n",
      "Random variate: using seed 27230625\n",
      "Random variate: using seed 17798400\n",
      "Random variate: using seed 24526875\n",
      "Random variate: using seed 23352675\n",
      "Random variate: using seed 18370050\n",
      "Random variate: using seed 17574375\n",
      "Random variate: using seed 25198950\n",
      "Random variate: using seed 21274650\n",
      "Random variate: using seed 26226375\n",
      "Random variate: using seed 16979550\n",
      "Random variate: using seed 19250700\n",
      "Random variate: using seed 13333350\n",
      "Random variate: using seed 23229075\n",
      "Random variate: using seed 23970675\n",
      "Random variate: using seed 13124775\n",
      "Random variate: using seed 13325625\n",
      "Random variate: using seed 13866375\n",
      "Random variate: using seed 21962175\n",
      "Random variate: using seed 24279675\n",
      "Random variate: using seed 21413700\n",
      "Random variate: using seed 14152200\n",
      "Random variate: using seed 21884925\n",
      "Random variate: using seed 26396325\n",
      "Random variate: using seed 23646225\n",
      "Random variate: using seed 20587125\n",
      "Random variate: using seed 16106625\n",
      "Random variate: using seed 25253025\n",
      "Random variate: using seed 24835875\n",
      "Random variate: using seed 12035550\n",
      "Random variate: using seed 20625750\n",
      "Random variate: using seed 25592925\n",
      "Random variate: using seed 24326025\n",
      "Random variate: using seed 28095825\n",
      "Random variate: using seed 11247600\n",
      "Random variate: using seed 14098125\n",
      "Random variate: using seed 27740475\n",
      "Random variate: using seed 20007750\n",
      "Random variate: using seed 19667850\n",
      "Random variate: using seed 21467775\n",
      "Random variate: using seed 15334125\n",
      "Random variate: using seed 17566650\n",
      "Random variate: using seed 17157225\n",
      "Random variate: using seed 26095050\n",
      "Random variate: using seed 19536525\n",
      "Random variate: using seed 22387050\n",
      "Random variate: using seed 15689475\n",
      "Random variate: using seed 15450000\n",
      "Random variate: using seed 19018950\n",
      "Random variate: using seed 25832400\n",
      "Random variate: using seed 20363100\n",
      "Random variate: using seed 12444975\n",
      "Random variate: using seed 22850550\n",
      "Random variate: using seed 14731575\n",
      "Random variate: using seed 26543100\n",
      "Random variate: using seed 21066075\n",
      "Random variate: using seed 24086550\n",
      "Random variate: using seed 14237175\n",
      "Random variate: using seed 15117825\n",
      "Random variate: using seed 23646225\n",
      "Random variate: using seed 27099300\n",
      "Random variate: using seed 24457350\n",
      "Random variate: using seed 19528800\n",
      "Random variate: using seed 12529950\n",
      "Random variate: using seed 16508325\n",
      "Random variate: using seed 23005050\n",
      "Random variate: using seed 14600250\n",
      "Random variate: using seed 19675575\n",
      "Random variate: using seed 24650475\n",
      "Random variate: using seed 20981100\n",
      "Random variate: using seed 18045600\n",
      "Random variate: using seed 12360000\n",
      "Random variate: using seed 25446150\n",
      "Random variate: using seed 12228675\n",
      "Random variate: using seed 25222125\n",
      "Random variate: using seed 16740075\n",
      "Random variate: using seed 13866375\n",
      "Random variate: using seed 16786425\n",
      "Random variate: using seed 26651250\n",
      "Random variate: using seed 17164950\n",
      "Random variate: using seed 26604900\n",
      "Random variate: using seed 27276975\n",
      "Random variate: using seed 11131725\n",
      "Random variate: using seed 11216700\n",
      "Random variate: using seed 15241425\n",
      "Random variate: using seed 21707250\n",
      "Random variate: using seed 14546175\n",
      "Random variate: using seed 22541550\n",
      "Random variate: using seed 16987275\n",
      "Random variate: using seed 22773300\n",
      "Random variate: using seed 20378550\n",
      "Random variate: using seed 15504075\n",
      "Random variate: using seed 15241425\n",
      "Random variate: using seed 16608750\n",
      "Random variate: using seed 15604500\n",
      "Random variate: using seed 14986500\n",
      "Random variate: using seed 27732750\n",
      "Random variate: using seed 17968350\n",
      "Random variate: using seed 17419875\n",
      "Random variate: using seed 25986900\n",
      "Random variate: using seed 20146800\n",
      "Random variate: using seed 20108175\n",
      "Random variate: using seed 26458125\n",
      "Random variate: using seed 26311350\n",
      "Random variate: using seed 23244525\n",
      "Random variate: using seed 15975300\n",
      "Random variate: using seed 14484375\n",
      "Random variate: using seed 19984575\n",
      "Random variate: using seed 19111650\n",
      "Random variate: using seed 18200100\n",
      "Random variate: using seed 12676725\n",
      "Random variate: using seed 16129800\n",
      "Random variate: using seed 21220575\n",
      "Random variate: using seed 10884525\n",
      "Random variate: using seed 19876425\n",
      "Random variate: using seed 16933200\n",
      "Random variate: using seed 13549650\n",
      "Random variate: using seed 23012775\n",
      "Random variate: using seed 19258425\n",
      "Random variate: using seed 15797625\n",
      "Random variate: using seed 17234475\n",
      "Random variate: using seed 18679050\n",
      "Random variate: using seed 12290475\n",
      "Random variate: using seed 15689475\n",
      "Random variate: using seed 27694125\n",
      "Random variate: using seed 16315200\n",
      "Random variate: using seed 17358075\n",
      "Random variate: using seed 14855175\n",
      "Random variate: using seed 19760550\n",
      "Random variate: using seed 14298975\n",
      "Random variate: using seed 19358850\n",
      "Random variate: using seed 25585200\n",
      "Random variate: using seed 15202800\n",
      "Random variate: using seed 27663225\n",
      "Random variate: using seed 11904225\n",
      "Random variate: using seed 15334125\n"
     ]
    }
   ],
   "source": [
    "import numpy as np\n",
    "from numpy.random import default_rng\n",
    "def get_wp_from_random_variate(phot_num=0,scat_num=0,Rint=None,wc=1):\n",
    "    \n",
    "    if Rint is None:\n",
    "        Rint = np.loadtxt('Rwwp_cdf.txt')\n",
    "    \n",
    "    #how many random variates?\n",
    "    seed = (phot_num+55)*(scat_num+666)*103\n",
    "    print(f'Random variate: using seed {seed}')\n",
    "    rng = default_rng(seed)\n",
    "    n_rand = 100000\n",
    "\n",
    "    #get the xi_p\n",
    "    xi_p = rng.uniform(0,1,n_rand)\n",
    "\n",
    "    #make our array of output wp values\n",
    "    wpc = np.zeros(n_rand)\n",
    "    w_min  = -10.0\n",
    "    w_max  =  10.0\n",
    "    wp_min = -30.0\n",
    "    wp_max =  30.0\n",
    "\n",
    "    #how many samples in each direction?\n",
    "    n_w  = 1001\n",
    "    n_wp = 1001\n",
    "\n",
    "    #produce arrays of w, w'\n",
    "    w = np.linspace(w_min,w_max,n_w)\n",
    "    wp = np.linspace(wp_min, wp_max, n_wp)\n",
    "\n",
    "    #begin a loop over the random variates\n",
    "        \n",
    "    #what is our range of w,w'?\n",
    "\n",
    "    #find the w indices bounding current w\n",
    "    wi = np.searchsorted(w,wc,side=\"left\")\n",
    "    \n",
    "    #define i, i+1\n",
    "    i   = wi-1\n",
    "    ip1 = wi\n",
    "    \n",
    "    #embed()\n",
    "    #find the wp indices bounding xi_p\n",
    "    \n",
    "    wpi  = np.searchsorted(Rint[:,i],xi_p[scat_num])\n",
    "    wpia = np.searchsorted(Rint[:,ip1],xi_p[scat_num])\n",
    "\n",
    "    #define j, j+1 for each w\n",
    "    j  = wpi-1\n",
    "    ja = wpia-1\n",
    "    \n",
    "    #ensure the bounding box is large enough\n",
    "    if(j>ja):\n",
    "        ja = j\n",
    "    elif(j<ja):\n",
    "        j = ja\n",
    "        \n",
    "    jp1 = j+1\n",
    "        \n",
    "    #define t, z0, z1, z2, z3, and z\n",
    "    t = (wc - w[i])/(w[ip1]-w[i])\n",
    "    z0 = Rint[j,i]\n",
    "    z1 = Rint[jp1,i]\n",
    "    z2 = Rint[j,ip1]\n",
    "    z3 = Rint[jp1,ip1]\n",
    "    \n",
    "    #find u\n",
    "    u = (xi_p[20] - z2*t - z0*(1.-t))/((z1-z0)*(1.-t) + (z3-z2)*t)\n",
    "    \n",
    "    #get wp\n",
    "    wpc = u*(wp[jp1] - wp[j]) + wp[j]\n",
    "\n",
    "    return wpc\n",
    "p = []\n",
    "for k in np.random.randint(700,3000,150):\n",
    "    p.append(get_wp_from_random_variate(20,k,wc=2.5))"
   ]
  },
  {
   "cell_type": "code",
   "execution_count": 23,
   "metadata": {},
   "outputs": [
    {
     "data": {
      "text/plain": [
       "7.097038684464646"
      ]
     },
     "execution_count": 23,
     "metadata": {},
     "output_type": "execute_result"
    }
   ],
   "source": [
    "np.array(p).max()"
   ]
  }
 ],
 "metadata": {
  "kernelspec": {
   "display_name": "astr_257",
   "language": "python",
   "name": "python3"
  },
  "language_info": {
   "codemirror_mode": {
    "name": "ipython",
    "version": 3
   },
   "file_extension": ".py",
   "mimetype": "text/x-python",
   "name": "python",
   "nbconvert_exporter": "python",
   "pygments_lexer": "ipython3",
   "version": "3.11.5"
  }
 },
 "nbformat": 4,
 "nbformat_minor": 2
}
